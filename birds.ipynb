{
 "cells": [
  {
   "cell_type": "markdown",
   "metadata": {},
   "source": [
    "# Australian Birds Classifier"
   ]
  },
  {
   "cell_type": "markdown",
   "metadata": {},
   "source": [
    "## Create dataset"
   ]
  },
  {
   "cell_type": "markdown",
   "metadata": {},
   "source": [
    "I first downloaded urls from a Google image search for various classes of Australian birds. I then uploaded these files to my notebook and then downloaded the images into folders for the various classes."
   ]
  },
  {
   "cell_type": "code",
   "execution_count": 70,
   "metadata": {},
   "outputs": [],
   "source": [
    "from fastai.vision import *"
   ]
  },
  {
   "cell_type": "code",
   "execution_count": 71,
   "metadata": {},
   "outputs": [],
   "source": [
    "folder = 'galah'\n",
    "file = 'urls_galah.csv'"
   ]
  },
  {
   "cell_type": "code",
   "execution_count": 72,
   "metadata": {},
   "outputs": [],
   "source": [
    "path = Path('data/birds')\n",
    "dest = path/folder\n",
    "dest.mkdir(parents=True, exist_ok=True)"
   ]
  },
  {
   "cell_type": "code",
   "execution_count": 73,
   "metadata": {},
   "outputs": [
    {
     "data": {
      "text/html": [
       "\n",
       "    <div>\n",
       "        <style>\n",
       "            /* Turns off some styling */\n",
       "            progress {\n",
       "                /* gets rid of default border in Firefox and Opera. */\n",
       "                border: none;\n",
       "                /* Needs to be in here for Safari polyfill so background images work as expected. */\n",
       "                background-size: auto;\n",
       "            }\n",
       "            .progress-bar-interrupted, .progress-bar-interrupted::-webkit-progress-bar {\n",
       "                background: #F44336;\n",
       "            }\n",
       "        </style>\n",
       "      <progress value='400' class='' max='400', style='width:300px; height:20px; vertical-align: middle;'></progress>\n",
       "      100.00% [400/400 00:31<00:00]\n",
       "    </div>\n",
       "    "
      ],
      "text/plain": [
       "<IPython.core.display.HTML object>"
      ]
     },
     "metadata": {},
     "output_type": "display_data"
    },
    {
     "name": "stdout",
     "output_type": "stream",
     "text": [
      "Error https://dictionary.cambridge.org/images/thumb/galah_noun_002_15317.jpg?version=4.0.76 ('Connection aborted.', RemoteDisconnected('Remote end closed connection without response',))\n"
     ]
    }
   ],
   "source": [
    "download_images(path/file, dest, max_pics=700)"
   ]
  },
  {
   "cell_type": "code",
   "execution_count": 74,
   "metadata": {},
   "outputs": [],
   "source": [
    "folder = 'kookaburra'\n",
    "file = 'urls_kookaburra.csv'"
   ]
  },
  {
   "cell_type": "code",
   "execution_count": 75,
   "metadata": {},
   "outputs": [],
   "source": [
    "path = Path('data/birds')\n",
    "dest = path/folder\n",
    "dest.mkdir(parents=True, exist_ok=True)"
   ]
  },
  {
   "cell_type": "code",
   "execution_count": 76,
   "metadata": {},
   "outputs": [
    {
     "data": {
      "text/html": [
       "\n",
       "    <div>\n",
       "        <style>\n",
       "            /* Turns off some styling */\n",
       "            progress {\n",
       "                /* gets rid of default border in Firefox and Opera. */\n",
       "                border: none;\n",
       "                /* Needs to be in here for Safari polyfill so background images work as expected. */\n",
       "                background-size: auto;\n",
       "            }\n",
       "            .progress-bar-interrupted, .progress-bar-interrupted::-webkit-progress-bar {\n",
       "                background: #F44336;\n",
       "            }\n",
       "        </style>\n",
       "      <progress value='644' class='' max='644', style='width:300px; height:20px; vertical-align: middle;'></progress>\n",
       "      100.00% [644/644 00:55<00:00]\n",
       "    </div>\n",
       "    "
      ],
      "text/plain": [
       "<IPython.core.display.HTML object>"
      ]
     },
     "metadata": {},
     "output_type": "display_data"
    },
    {
     "name": "stdout",
     "output_type": "stream",
     "text": [
      "Error https://thumbor.abcopen.net.au/7jNUuauNGqJdUuLrBJuAVyQESSY=/970x596/smart/https://uploads-abcopen.s3.amazonaws.com/assets/uploads/138427.jpg HTTPSConnectionPool(host='thumbor.abcopen.net.au', port=443): Read timed out. (read timeout=4)\n",
      "Error x-raw-image:///e9249c7c049aa426d58b5e542e45fe0ffe71abc7a860e3992baaa64a8bc0f9d9 No connection adapters were found for 'x-raw-image:///e9249c7c049aa426d58b5e542e45fe0ffe71abc7a860e3992baaa64a8bc0f9d9'\n"
     ]
    }
   ],
   "source": [
    "download_images(path/file, dest, max_pics=700)"
   ]
  },
  {
   "cell_type": "code",
   "execution_count": 77,
   "metadata": {},
   "outputs": [],
   "source": [
    "folder = 'cockatoo'\n",
    "file = 'urls_cockatoo.csv'"
   ]
  },
  {
   "cell_type": "code",
   "execution_count": 78,
   "metadata": {},
   "outputs": [],
   "source": [
    "path = Path('data/birds')\n",
    "dest = path/folder\n",
    "dest.mkdir(parents=True, exist_ok=True)"
   ]
  },
  {
   "cell_type": "code",
   "execution_count": 79,
   "metadata": {},
   "outputs": [
    {
     "data": {
      "text/html": [
       "\n",
       "    <div>\n",
       "        <style>\n",
       "            /* Turns off some styling */\n",
       "            progress {\n",
       "                /* gets rid of default border in Firefox and Opera. */\n",
       "                border: none;\n",
       "                /* Needs to be in here for Safari polyfill so background images work as expected. */\n",
       "                background-size: auto;\n",
       "            }\n",
       "            .progress-bar-interrupted, .progress-bar-interrupted::-webkit-progress-bar {\n",
       "                background: #F44336;\n",
       "            }\n",
       "        </style>\n",
       "      <progress value='688' class='' max='688', style='width:300px; height:20px; vertical-align: middle;'></progress>\n",
       "      100.00% [688/688 00:57<00:00]\n",
       "    </div>\n",
       "    "
      ],
      "text/plain": [
       "<IPython.core.display.HTML object>"
      ]
     },
     "metadata": {},
     "output_type": "display_data"
    },
    {
     "name": "stdout",
     "output_type": "stream",
     "text": [
      "Error https://www.petguide.com/wp-content/uploads/2018/07/lesser-sulphur-crested-cockatoo.jpg HTTPConnectionPool(host='127.0.0.1', port=80): Max retries exceeded with url: / (Caused by NewConnectionError('<urllib3.connection.HTTPConnection object at 0x7f3d799ca748>: Failed to establish a new connection: [Errno 111] Connection refused',))\n",
      "Error https://www.petguide.com/wp-content/uploads/2018/10/sulphur-crested-cockatoo.jpg HTTPConnectionPool(host='127.0.0.1', port=80): Max retries exceeded with url: / (Caused by NewConnectionError('<urllib3.connection.HTTPConnection object at 0x7f3d799bcd68>: Failed to establish a new connection: [Errno 111] Connection refused',))\n",
      "Error https://www.petguide.com/wp-content/uploads/2018/07/greater-sulphur-crested-cockatoo-2.jpg HTTPConnectionPool(host='127.0.0.1', port=80): Max retries exceeded with url: / (Caused by NewConnectionError('<urllib3.connection.HTTPConnection object at 0x7f3d799f63c8>: Failed to establish a new connection: [Errno 111] Connection refused',))\n",
      "Error x-raw-image:///fe6e86f58352803286c797ea685d0387c3379c5e80a8f5df2b2aea04c1748d50 No connection adapters were found for 'x-raw-image:///fe6e86f58352803286c797ea685d0387c3379c5e80a8f5df2b2aea04c1748d50'\n",
      "Error x-raw-image:///d54dcfe55dea5b6f98b54c9476ca0da78aedcc0dffbd283aa8bf8c27c8292eda No connection adapters were found for 'x-raw-image:///d54dcfe55dea5b6f98b54c9476ca0da78aedcc0dffbd283aa8bf8c27c8292eda'\n",
      "Error https://www.petguide.com/wp-content/uploads/2018/07/greater-sulphur-crested-cockatoo-1-240x300.jpg HTTPConnectionPool(host='127.0.0.1', port=80): Max retries exceeded with url: / (Caused by NewConnectionError('<urllib3.connection.HTTPConnection object at 0x7f3d799c9278>: Failed to establish a new connection: [Errno 111] Connection refused',))\n"
     ]
    },
    {
     "name": "stderr",
     "output_type": "stream",
     "text": [
      "/opt/conda/lib/python3.6/site-packages/fastai/datasets.py:164: YAMLLoadWarning: calling yaml.load() without Loader=... is deprecated, as the default Loader is unsafe. Please read https://msg.pyyaml.org/load for full details.\n",
      "  with open(fpath, 'r') as yaml_file: return yaml.load(yaml_file)\n"
     ]
    },
    {
     "name": "stdout",
     "output_type": "stream",
     "text": [
      "\n",
      " Download of https://www.environment.nsw.gov.au/images/nature/CockatooRBGT2.jpg has failed after 5 retries\n",
      " Fix the download manually:\n",
      "$ mkdir -p /home/crestle/.fastai/data\n",
      "$ cd /home/crestle/.fastai/data\n",
      "$ wget -c https://www.environment.nsw.gov.au/images/nature/CockatooRBGT2.jpg\n",
      "$ tar -zxvf CockatooRBGT2.jpg\n",
      "\n",
      "And re-run your code once the download is successful\n",
      "\n"
     ]
    }
   ],
   "source": [
    "download_images(path/file, dest, max_pics=700)"
   ]
  },
  {
   "cell_type": "code",
   "execution_count": 80,
   "metadata": {},
   "outputs": [],
   "source": [
    "folder = 'lorikeet'\n",
    "file = 'urls_lorikeet.csv'"
   ]
  },
  {
   "cell_type": "code",
   "execution_count": 81,
   "metadata": {},
   "outputs": [],
   "source": [
    "path = Path('data/birds')\n",
    "dest = path/folder\n",
    "dest.mkdir(parents=True, exist_ok=True)"
   ]
  },
  {
   "cell_type": "code",
   "execution_count": 82,
   "metadata": {},
   "outputs": [
    {
     "data": {
      "text/html": [
       "\n",
       "    <div>\n",
       "        <style>\n",
       "            /* Turns off some styling */\n",
       "            progress {\n",
       "                /* gets rid of default border in Firefox and Opera. */\n",
       "                border: none;\n",
       "                /* Needs to be in here for Safari polyfill so background images work as expected. */\n",
       "                background-size: auto;\n",
       "            }\n",
       "            .progress-bar-interrupted, .progress-bar-interrupted::-webkit-progress-bar {\n",
       "                background: #F44336;\n",
       "            }\n",
       "        </style>\n",
       "      <progress value='611' class='' max='611', style='width:300px; height:20px; vertical-align: middle;'></progress>\n",
       "      100.00% [611/611 00:43<00:00]\n",
       "    </div>\n",
       "    "
      ],
      "text/plain": [
       "<IPython.core.display.HTML object>"
      ]
     },
     "metadata": {},
     "output_type": "display_data"
    },
    {
     "name": "stdout",
     "output_type": "stream",
     "text": [
      "Error https://www.burkesbackyard.com.au/wp-content/uploads/2013/09/Feeding-Lorikeets.jpg HTTPSConnectionPool(host='www.burkesbackyard.com.au', port=443): Read timed out. (read timeout=4)\n",
      "Error http://swarovskicrystalfigurines.com/wp-content/image/Swarovski_Figurine_2016_RAINBOW_LORIKEET_BIRD_02_fp.jpg HTTPConnectionPool(host='swarovskicrystalfigurines.com', port=80): Max retries exceeded with url: /wp-content/image/Swarovski_Figurine_2016_RAINBOW_LORIKEET_BIRD_02_fp.jpg (Caused by NewConnectionError('<urllib3.connection.HTTPConnection object at 0x7f3d799bde48>: Failed to establish a new connection: [Errno -3] Temporary failure in name resolution',))\n",
      "Error https://www.picclickimg.com/00/s/NzY5WDY2Mw==/z/inkAAOSwcEtZkmX~/$/Dinki-Di-Rainbow-Lorikeet-Bird-Plush-Toy-Soft-_1.jpg HTTPSConnectionPool(host='www.picclickimg.com', port=443): Read timed out. (read timeout=4)\n",
      "Error https://www.10wallpaper.com/wallpaper/1920x1200/1411/Rainbow_Lorikeet_Bird-Animal_Photo_Wallpaper_1920x1200.jpg HTTPSConnectionPool(host='www.10wallpaper.com', port=443): Max retries exceeded with url: /wallpaper/1920x1200/1411/Rainbow_Lorikeet_Bird-Animal_Photo_Wallpaper_1920x1200.jpg (Caused by SSLError(SSLError(\"bad handshake: SysCallError(-1, 'Unexpected EOF')\",),))\n"
     ]
    }
   ],
   "source": [
    "download_images(path/file, dest, max_pics=700)"
   ]
  },
  {
   "cell_type": "code",
   "execution_count": 83,
   "metadata": {},
   "outputs": [],
   "source": [
    "folder = 'magpie'\n",
    "file = 'urls_magpie.csv'"
   ]
  },
  {
   "cell_type": "code",
   "execution_count": 84,
   "metadata": {},
   "outputs": [],
   "source": [
    "path = Path('data/birds')\n",
    "dest = path/folder\n",
    "dest.mkdir(parents=True, exist_ok=True)"
   ]
  },
  {
   "cell_type": "code",
   "execution_count": 85,
   "metadata": {},
   "outputs": [
    {
     "data": {
      "text/html": [
       "\n",
       "    <div>\n",
       "        <style>\n",
       "            /* Turns off some styling */\n",
       "            progress {\n",
       "                /* gets rid of default border in Firefox and Opera. */\n",
       "                border: none;\n",
       "                /* Needs to be in here for Safari polyfill so background images work as expected. */\n",
       "                background-size: auto;\n",
       "            }\n",
       "            .progress-bar-interrupted, .progress-bar-interrupted::-webkit-progress-bar {\n",
       "                background: #F44336;\n",
       "            }\n",
       "        </style>\n",
       "      <progress value='674' class='' max='674', style='width:300px; height:20px; vertical-align: middle;'></progress>\n",
       "      100.00% [674/674 00:40<00:00]\n",
       "    </div>\n",
       "    "
      ],
      "text/plain": [
       "<IPython.core.display.HTML object>"
      ]
     },
     "metadata": {},
     "output_type": "display_data"
    },
    {
     "name": "stdout",
     "output_type": "stream",
     "text": [
      "Error x-raw-image:///16a5090b296c80e1fefa2902b8bdeb1f8c51514574d77bf57b1a1f17bde49023 No connection adapters were found for 'x-raw-image:///16a5090b296c80e1fefa2902b8bdeb1f8c51514574d77bf57b1a1f17bde49023'\n",
      "Error https://uno-envivio.netdna-ssl.com/wp-content/uploads/bb-plugin/cache/Birds-Yellow-Billed-Magpie-square.jpg HTTPSConnectionPool(host='uno-envivio.netdna-ssl.com', port=443): Max retries exceeded with url: /wp-content/uploads/bb-plugin/cache/Birds-Yellow-Billed-Magpie-square.jpg (Caused by NewConnectionError('<urllib3.connection.VerifiedHTTPSConnection object at 0x7f3d799bc198>: Failed to establish a new connection: [Errno -2] Name or service not known',))\n",
      "Error http://vs-images.johngreedjewellery.com/images/silver-magpie-bird-charm-1042-041-1-p33117-248852_image.jpg HTTPConnectionPool(host='vs-images.johngreedjewellery.com', port=80): Max retries exceeded with url: /images/silver-magpie-bird-charm-1042-041-1-p33117-248852_image.jpg (Caused by NewConnectionError('<urllib3.connection.HTTPConnection object at 0x7f3d799db128>: Failed to establish a new connection: [Errno -2] Name or service not known',))\n",
      "Error https://thumbor.abcopen.net.au/IutpNyBffLndFqJy0NQL6GHbjtY=/0x0:640x640/970x970/https://scontent.cdninstagram.com/t51.2885-15/s640x640/sh0.08/e35/25013787_1738882129751872_9057617420562202624_n.jpg HTTPSConnectionPool(host='thumbor.abcopen.net.au', port=443): Read timed out. (read timeout=4)\n"
     ]
    }
   ],
   "source": [
    "download_images(path/file, dest, max_pics=700)"
   ]
  },
  {
   "cell_type": "code",
   "execution_count": 86,
   "metadata": {},
   "outputs": [],
   "source": [
    "folder = 'gull'\n",
    "file = 'urls_gull.csv'"
   ]
  },
  {
   "cell_type": "code",
   "execution_count": 87,
   "metadata": {},
   "outputs": [],
   "source": [
    "path = Path('data/birds')\n",
    "dest = path/folder\n",
    "dest.mkdir(parents=True, exist_ok=True)"
   ]
  },
  {
   "cell_type": "code",
   "execution_count": 88,
   "metadata": {},
   "outputs": [
    {
     "data": {
      "text/html": [
       "\n",
       "    <div>\n",
       "        <style>\n",
       "            /* Turns off some styling */\n",
       "            progress {\n",
       "                /* gets rid of default border in Firefox and Opera. */\n",
       "                border: none;\n",
       "                /* Needs to be in here for Safari polyfill so background images work as expected. */\n",
       "                background-size: auto;\n",
       "            }\n",
       "            .progress-bar-interrupted, .progress-bar-interrupted::-webkit-progress-bar {\n",
       "                background: #F44336;\n",
       "            }\n",
       "        </style>\n",
       "      <progress value='600' class='' max='600', style='width:300px; height:20px; vertical-align: middle;'></progress>\n",
       "      100.00% [600/600 00:46<00:00]\n",
       "    </div>\n",
       "    "
      ],
      "text/plain": [
       "<IPython.core.display.HTML object>"
      ]
     },
     "metadata": {},
     "output_type": "display_data"
    },
    {
     "name": "stdout",
     "output_type": "stream",
     "text": [
      "Error https://proof.arkive.org/media/BA/BAACBD24-B0FC-4063-88D4-D958D7218E9A/Presentation.Large/silver-gull-adult-with-two-chicks.jpg HTTPSConnectionPool(host='proof.arkive.org', port=443): Max retries exceeded with url: /media/BA/BAACBD24-B0FC-4063-88D4-D958D7218E9A/Presentation.Large/silver-gull-adult-with-two-chicks.jpg (Caused by SSLError(SSLError(\"bad handshake: Error([('SSL routines', 'ssl3_read_bytes', 'sslv3 alert handshake failure')],)\",),))\n",
      "Error https://www.waratahsoftware.com.au/images/birds/fi_silvergull_p1250184.jpg HTTPSConnectionPool(host='www.waratahsoftware.com.au', port=443): Max retries exceeded with url: /images/birds/fi_silvergull_p1250184.jpg (Caused by ConnectTimeoutError(<urllib3.connection.VerifiedHTTPSConnection object at 0x7f3d799b77b8>, 'Connection to www.waratahsoftware.com.au timed out. (connect timeout=4)'))\n",
      "Error x-raw-image:///c46499da2cca71338381ebc9db604b69a6f17ef275df956e20016aadba1cb237 No connection adapters were found for 'x-raw-image:///c46499da2cca71338381ebc9db604b69a6f17ef275df956e20016aadba1cb237'\n",
      "Error http://ian.muirhead.name/images/gallery/birds/silver-gull-2.jpg HTTPConnectionPool(host='ian.muirhead.name', port=80): Max retries exceeded with url: /images/gallery/birds/silver-gull-2.jpg (Caused by NewConnectionError('<urllib3.connection.HTTPConnection object at 0x7f3d799bdda0>: Failed to establish a new connection: [Errno -3] Temporary failure in name resolution',))\n",
      "Error http://ian.muirhead.name/gallery/birds/ocean/images/silver-gull-3.jpg HTTPConnectionPool(host='ian.muirhead.name', port=80): Max retries exceeded with url: /gallery/birds/ocean/images/silver-gull-3.jpg (Caused by NewConnectionError('<urllib3.connection.HTTPConnection object at 0x7f3d799bd748>: Failed to establish a new connection: [Errno -3] Temporary failure in name resolution',))\n",
      "Error https://prometheus.med.utah.edu/~bwjones/wp-content/uploads/2018/04/Silver-gull.jpg HTTPSConnectionPool(host='prometheus.med.utah.edu', port=443): Max retries exceeded with url: /~bwjones/wp-content/uploads/2018/04/Silver-gull.jpg (Caused by SSLError(SSLError(\"bad handshake: Error([('SSL routines', 'tls_process_server_certificate', 'certificate verify failed')],)\",),))\n",
      "Error https://www.waratahsoftware.com.au/thumbnails/birds/tn_silvergull_DSC_5871.jpg HTTPSConnectionPool(host='www.waratahsoftware.com.au', port=443): Max retries exceeded with url: /thumbnails/birds/tn_silvergull_DSC_5871.jpg (Caused by ConnectTimeoutError(<urllib3.connection.VerifiedHTTPSConnection object at 0x7f3d799b7a20>, 'Connection to www.waratahsoftware.com.au timed out. (connect timeout=4)'))\n",
      "Error https://www.waratahsoftware.com.au/thumbnails/birds/tn_silvergull_p1250184.jpg HTTPSConnectionPool(host='www.waratahsoftware.com.au', port=443): Max retries exceeded with url: /thumbnails/birds/tn_silvergull_p1250184.jpg (Caused by ConnectTimeoutError(<urllib3.connection.VerifiedHTTPSConnection object at 0x7f3d799dbf28>, 'Connection to www.waratahsoftware.com.au timed out. (connect timeout=4)'))\n"
     ]
    }
   ],
   "source": [
    "download_images(path/file, dest, max_pics=700)"
   ]
  },
  {
   "cell_type": "code",
   "execution_count": 89,
   "metadata": {},
   "outputs": [
    {
     "data": {
      "text/plain": [
       "[PosixPath('data/birds/galah'),\n",
       " PosixPath('data/birds/kookaburra'),\n",
       " PosixPath('data/birds/.ipynb_checkpoints'),\n",
       " PosixPath('data/birds/cockatoo'),\n",
       " PosixPath('data/birds/lorikeet'),\n",
       " PosixPath('data/birds/magpie'),\n",
       " PosixPath('data/birds/gull'),\n",
       " PosixPath('data/birds/models'),\n",
       " PosixPath('data/birds/export.pkl'),\n",
       " PosixPath('data/birds/urls_magpie.csv'),\n",
       " PosixPath('data/birds/urls_lorikeet.csv'),\n",
       " PosixPath('data/birds/urls_galah.csv'),\n",
       " PosixPath('data/birds/urls_gull.csv'),\n",
       " PosixPath('data/birds/urls_cockatoo.csv'),\n",
       " PosixPath('data/birds/urls_kookaburra.csv'),\n",
       " PosixPath('data/birds/cleaned.csv')]"
      ]
     },
     "execution_count": 89,
     "metadata": {},
     "output_type": "execute_result"
    }
   ],
   "source": [
    "path.ls()"
   ]
  },
  {
   "cell_type": "markdown",
   "metadata": {},
   "source": [
    "I now check for corrupted images that cannot be opened."
   ]
  },
  {
   "cell_type": "code",
   "execution_count": 90,
   "metadata": {},
   "outputs": [],
   "source": [
    "classes = ['galah','kookaburra','cockatoo', 'lorikeet', 'magpie', 'gull']"
   ]
  },
  {
   "cell_type": "code",
   "execution_count": 91,
   "metadata": {},
   "outputs": [
    {
     "name": "stdout",
     "output_type": "stream",
     "text": [
      "galah\n"
     ]
    },
    {
     "data": {
      "text/html": [
       "\n",
       "    <div>\n",
       "        <style>\n",
       "            /* Turns off some styling */\n",
       "            progress {\n",
       "                /* gets rid of default border in Firefox and Opera. */\n",
       "                border: none;\n",
       "                /* Needs to be in here for Safari polyfill so background images work as expected. */\n",
       "                background-size: auto;\n",
       "            }\n",
       "            .progress-bar-interrupted, .progress-bar-interrupted::-webkit-progress-bar {\n",
       "                background: #F44336;\n",
       "            }\n",
       "        </style>\n",
       "      <progress value='400' class='' max='400', style='width:300px; height:20px; vertical-align: middle;'></progress>\n",
       "      100.00% [400/400 00:03<00:00]\n",
       "    </div>\n",
       "    "
      ],
      "text/plain": [
       "<IPython.core.display.HTML object>"
      ]
     },
     "metadata": {},
     "output_type": "display_data"
    },
    {
     "name": "stdout",
     "output_type": "stream",
     "text": [
      "cannot identify image file <_io.BufferedReader name='data/birds/galah/00000033.jpg'>\n",
      "cannot identify image file <_io.BufferedReader name='data/birds/galah/00000084.jpg'>\n",
      "cannot identify image file <_io.BufferedReader name='data/birds/galah/00000132.jpg'>\n",
      "cannot identify image file <_io.BufferedReader name='data/birds/galah/00000161.jpg'>\n",
      "cannot identify image file <_io.BufferedReader name='data/birds/galah/00000170.jpg'>\n",
      "cannot identify image file <_io.BufferedReader name='data/birds/galah/00000192.jpg'>\n",
      "cannot identify image file <_io.BufferedReader name='data/birds/galah/00000266.jpg'>\n",
      "cannot identify image file <_io.BufferedReader name='data/birds/galah/00000274.jpg'>\n",
      "cannot identify image file <_io.BufferedReader name='data/birds/galah/00000307.jpg'>\n",
      "cannot identify image file <_io.BufferedReader name='data/birds/galah/00000309.jpg'>\n",
      "cannot identify image file <_io.BufferedReader name='data/birds/galah/00000325.jpg'>\n"
     ]
    },
    {
     "name": "stderr",
     "output_type": "stream",
     "text": [
      "/opt/conda/lib/python3.6/site-packages/PIL/Image.py:969: UserWarning: Palette images with Transparency   expressed in bytes should be converted to RGBA images\n",
      "  'to RGBA images')\n",
      "/opt/conda/lib/python3.6/site-packages/PIL/Image.py:1022: UserWarning: Couldn't allocate palette entry for transparency\n",
      "  \"for transparency\")\n"
     ]
    },
    {
     "name": "stdout",
     "output_type": "stream",
     "text": [
      "kookaburra\n"
     ]
    },
    {
     "data": {
      "text/html": [
       "\n",
       "    <div>\n",
       "        <style>\n",
       "            /* Turns off some styling */\n",
       "            progress {\n",
       "                /* gets rid of default border in Firefox and Opera. */\n",
       "                border: none;\n",
       "                /* Needs to be in here for Safari polyfill so background images work as expected. */\n",
       "                background-size: auto;\n",
       "            }\n",
       "            .progress-bar-interrupted, .progress-bar-interrupted::-webkit-progress-bar {\n",
       "                background: #F44336;\n",
       "            }\n",
       "        </style>\n",
       "      <progress value='642' class='' max='642', style='width:300px; height:20px; vertical-align: middle;'></progress>\n",
       "      100.00% [642/642 00:04<00:00]\n",
       "    </div>\n",
       "    "
      ],
      "text/plain": [
       "<IPython.core.display.HTML object>"
      ]
     },
     "metadata": {},
     "output_type": "display_data"
    },
    {
     "name": "stdout",
     "output_type": "stream",
     "text": [
      "cannot identify image file <_io.BufferedReader name='data/birds/kookaburra/00000000.jpg'>\n",
      "cannot identify image file <_io.BufferedReader name='data/birds/kookaburra/00000015.jpg'>\n",
      "cannot identify image file <_io.BufferedReader name='data/birds/kookaburra/00000044.jpg'>\n",
      "cannot identify image file <_io.BufferedReader name='data/birds/kookaburra/00000099.jpg'>\n",
      "cannot identify image file <_io.BufferedReader name='data/birds/kookaburra/00000130.jpg'>\n",
      "cannot identify image file <_io.BufferedReader name='data/birds/kookaburra/00000136.jpg'>\n",
      "cannot identify image file <_io.BufferedReader name='data/birds/kookaburra/00000146.jpg'>\n",
      "cannot identify image file <_io.BufferedReader name='data/birds/kookaburra/00000188.jpg'>\n",
      "cannot identify image file <_io.BufferedReader name='data/birds/kookaburra/00000193.jpg'>\n",
      "cannot identify image file <_io.BufferedReader name='data/birds/kookaburra/00000201.jpg'>\n",
      "cannot identify image file <_io.BufferedReader name='data/birds/kookaburra/00000238.jpg'>\n",
      "cannot identify image file <_io.BufferedReader name='data/birds/kookaburra/00000256.jpg'>\n",
      "cannot identify image file <_io.BufferedReader name='data/birds/kookaburra/00000290.jpg'>\n",
      "cannot identify image file <_io.BufferedReader name='data/birds/kookaburra/00000337.jpg'>\n",
      "cannot identify image file <_io.BufferedReader name='data/birds/kookaburra/00000357.jpg'>\n",
      "cannot identify image file <_io.BufferedReader name='data/birds/kookaburra/00000388.jpg'>\n",
      "cannot identify image file <_io.BufferedReader name='data/birds/kookaburra/00000415.jpg'>\n",
      "cannot identify image file <_io.BufferedReader name='data/birds/kookaburra/00000437.jpg'>\n",
      "cannot identify image file <_io.BufferedReader name='data/birds/kookaburra/00000442.jpg'>\n",
      "cannot identify image file <_io.BufferedReader name='data/birds/kookaburra/00000434.png'>\n",
      "cannot identify image file <_io.BufferedReader name='data/birds/kookaburra/00000459.jpg'>\n",
      "cannot identify image file <_io.BufferedReader name='data/birds/kookaburra/00000477.jpg'>\n",
      "cannot identify image file <_io.BufferedReader name='data/birds/kookaburra/00000484.JPG'>\n",
      "cannot identify image file <_io.BufferedReader name='data/birds/kookaburra/00000476.jpg'>\n",
      "cannot identify image file <_io.BufferedReader name='data/birds/kookaburra/00000524.jpg'>\n",
      "cannot identify image file <_io.BufferedReader name='data/birds/kookaburra/00000533.jpg'>\n",
      "cockatoo\n"
     ]
    },
    {
     "data": {
      "text/html": [
       "\n",
       "    <div>\n",
       "        <style>\n",
       "            /* Turns off some styling */\n",
       "            progress {\n",
       "                /* gets rid of default border in Firefox and Opera. */\n",
       "                border: none;\n",
       "                /* Needs to be in here for Safari polyfill so background images work as expected. */\n",
       "                background-size: auto;\n",
       "            }\n",
       "            .progress-bar-interrupted, .progress-bar-interrupted::-webkit-progress-bar {\n",
       "                background: #F44336;\n",
       "            }\n",
       "        </style>\n",
       "      <progress value='688' class='' max='688', style='width:300px; height:20px; vertical-align: middle;'></progress>\n",
       "      100.00% [688/688 00:06<00:00]\n",
       "    </div>\n",
       "    "
      ],
      "text/plain": [
       "<IPython.core.display.HTML object>"
      ]
     },
     "metadata": {},
     "output_type": "display_data"
    },
    {
     "name": "stdout",
     "output_type": "stream",
     "text": [
      "cannot identify image file <_io.BufferedReader name='data/birds/cockatoo/00000052.jpg'>\n",
      "cannot identify image file <_io.BufferedReader name='data/birds/cockatoo/00000124.jpg'>\n",
      "cannot identify image file <_io.BufferedReader name='data/birds/cockatoo/00000143.jpg'>\n",
      "cannot identify image file <_io.BufferedReader name='data/birds/cockatoo/00000027.jpg'>\n",
      "cannot identify image file <_io.BufferedReader name='data/birds/cockatoo/00000179.JPG'>\n",
      "cannot identify image file <_io.BufferedReader name='data/birds/cockatoo/00000200.jpg'>\n",
      "cannot identify image file <_io.BufferedReader name='data/birds/cockatoo/00000191.jpg'>\n",
      "cannot identify image file <_io.BufferedReader name='data/birds/cockatoo/00000212.jpg'>\n",
      "cannot identify image file <_io.BufferedReader name='data/birds/cockatoo/00000224.jpg'>\n",
      "cannot identify image file <_io.BufferedReader name='data/birds/cockatoo/00000244.jpg'>\n",
      "cannot identify image file <_io.BufferedReader name='data/birds/cockatoo/00000245.jpg'>\n",
      "cannot identify image file <_io.BufferedReader name='data/birds/cockatoo/00000261.jpg'>\n",
      "cannot identify image file <_io.BufferedReader name='data/birds/cockatoo/00000252.jpg'>\n",
      "cannot identify image file <_io.BufferedReader name='data/birds/cockatoo/00000274.jpg'>\n",
      "cannot identify image file <_io.BufferedReader name='data/birds/cockatoo/00000326.jpg'>\n",
      "cannot identify image file <_io.BufferedReader name='data/birds/cockatoo/00000383.jpg'>\n",
      "cannot identify image file <_io.BufferedReader name='data/birds/cockatoo/00000379.jpg'>\n",
      "cannot identify image file <_io.BufferedReader name='data/birds/cockatoo/00000404.jpg'>\n",
      "cannot identify image file <_io.BufferedReader name='data/birds/cockatoo/00000416.jpg'>\n",
      "cannot identify image file <_io.BufferedReader name='data/birds/cockatoo/00000436.jpg'>\n",
      "cannot identify image file <_io.BufferedReader name='data/birds/cockatoo/00000486.jpg'>\n",
      "cannot identify image file <_io.BufferedReader name='data/birds/cockatoo/00000526.jpg'>\n",
      "cannot identify image file <_io.BufferedReader name='data/birds/cockatoo/00000586.jpg'>\n",
      "cannot identify image file <_io.BufferedReader name='data/birds/cockatoo/00000637.jpg'>\n",
      "lorikeet\n"
     ]
    },
    {
     "data": {
      "text/html": [
       "\n",
       "    <div>\n",
       "        <style>\n",
       "            /* Turns off some styling */\n",
       "            progress {\n",
       "                /* gets rid of default border in Firefox and Opera. */\n",
       "                border: none;\n",
       "                /* Needs to be in here for Safari polyfill so background images work as expected. */\n",
       "                background-size: auto;\n",
       "            }\n",
       "            .progress-bar-interrupted, .progress-bar-interrupted::-webkit-progress-bar {\n",
       "                background: #F44336;\n",
       "            }\n",
       "        </style>\n",
       "      <progress value='614' class='' max='614', style='width:300px; height:20px; vertical-align: middle;'></progress>\n",
       "      100.00% [614/614 00:05<00:00]\n",
       "    </div>\n",
       "    "
      ],
      "text/plain": [
       "<IPython.core.display.HTML object>"
      ]
     },
     "metadata": {},
     "output_type": "display_data"
    },
    {
     "name": "stdout",
     "output_type": "stream",
     "text": [
      "cannot identify image file <_io.BufferedReader name='data/birds/lorikeet/00000018.jpg'>\n",
      "cannot identify image file <_io.BufferedReader name='data/birds/lorikeet/00000020.jpg'>\n",
      "cannot identify image file <_io.BufferedReader name='data/birds/lorikeet/00000043.jpg'>\n",
      "cannot identify image file <_io.BufferedReader name='data/birds/lorikeet/00000092.jpg'>\n",
      "cannot identify image file <_io.BufferedReader name='data/birds/lorikeet/00000116.jpg'>\n",
      "cannot identify image file <_io.BufferedReader name='data/birds/lorikeet/00000005.jpg'>\n",
      "cannot identify image file <_io.BufferedReader name='data/birds/lorikeet/00000115.jpg'>\n",
      "cannot identify image file <_io.BufferedReader name='data/birds/lorikeet/00000131.jpg'>\n"
     ]
    },
    {
     "name": "stderr",
     "output_type": "stream",
     "text": [
      "/opt/conda/lib/python3.6/site-packages/PIL/Image.py:969: UserWarning: Palette images with Transparency   expressed in bytes should be converted to RGBA images\n",
      "  'to RGBA images')\n"
     ]
    },
    {
     "name": "stdout",
     "output_type": "stream",
     "text": [
      "cannot identify image file <_io.BufferedReader name='data/birds/lorikeet/00000171.jpg'>\n",
      "cannot identify image file <_io.BufferedReader name='data/birds/lorikeet/00000165.jpg'>\n",
      "cannot identify image file <_io.BufferedReader name='data/birds/lorikeet/00000178.jpg'>\n",
      "cannot identify image file <_io.BufferedReader name='data/birds/lorikeet/00000186.jpg'>\n",
      "cannot identify image file <_io.BufferedReader name='data/birds/lorikeet/00000180.jpg'>\n",
      "cannot identify image file <_io.BufferedReader name='data/birds/lorikeet/00000184.jpg'>\n",
      "cannot identify image file <_io.BufferedReader name='data/birds/lorikeet/00000217.jpg'>\n",
      "cannot identify image file <_io.BufferedReader name='data/birds/lorikeet/00000230.jpg'>\n",
      "cannot identify image file <_io.BufferedReader name='data/birds/lorikeet/00000282.jpg'>\n",
      "cannot identify image file <_io.BufferedReader name='data/birds/lorikeet/00000274.jpg'>\n",
      "cannot identify image file <_io.BufferedReader name='data/birds/lorikeet/00000281.jpg'>\n",
      "cannot identify image file <_io.BufferedReader name='data/birds/lorikeet/00000307.jpg'>\n"
     ]
    },
    {
     "name": "stderr",
     "output_type": "stream",
     "text": [
      "/opt/conda/lib/python3.6/site-packages/PIL/Image.py:1022: UserWarning: Couldn't allocate palette entry for transparency\n",
      "  \"for transparency\")\n"
     ]
    },
    {
     "name": "stdout",
     "output_type": "stream",
     "text": [
      "cannot identify image file <_io.BufferedReader name='data/birds/lorikeet/00000318.jpg'>\n",
      "cannot identify image file <_io.BufferedReader name='data/birds/lorikeet/00000354.jpg'>\n",
      "cannot identify image file <_io.BufferedReader name='data/birds/lorikeet/00000363.jpg'>\n",
      "cannot identify image file <_io.BufferedReader name='data/birds/lorikeet/00000383.jpg'>\n",
      "cannot identify image file <_io.BufferedReader name='data/birds/lorikeet/00000426.jpg'>\n",
      "cannot identify image file <_io.BufferedReader name='data/birds/lorikeet/00000473.jpg'>\n",
      "cannot identify image file <_io.BufferedReader name='data/birds/lorikeet/00000492.jpg'>\n",
      "cannot identify image file <_io.BufferedReader name='data/birds/lorikeet/00000506.jpg'>\n",
      "cannot identify image file <_io.BufferedReader name='data/birds/lorikeet/00000516.jpg'>\n",
      "cannot identify image file <_io.BufferedReader name='data/birds/lorikeet/00000543.jpg'>\n",
      "cannot identify image file <_io.BufferedReader name='data/birds/lorikeet/00000547.jpg'>\n",
      "cannot identify image file <_io.BufferedReader name='data/birds/lorikeet/00000567.jpg'>\n",
      "cannot identify image file <_io.BufferedReader name='data/birds/lorikeet/00000589.jpg'>\n",
      "cannot identify image file <_io.BufferedReader name='data/birds/lorikeet/00000593.jpg'>\n",
      "cannot identify image file <_io.BufferedReader name='data/birds/lorikeet/00000601.jpg'>\n",
      "cannot identify image file <_io.BufferedReader name='data/birds/lorikeet/00000605.jpg'>\n",
      "cannot identify image file <_io.BufferedReader name='data/birds/lorikeet/00000607.jpg'>\n",
      "magpie\n"
     ]
    },
    {
     "data": {
      "text/html": [
       "\n",
       "    <div>\n",
       "        <style>\n",
       "            /* Turns off some styling */\n",
       "            progress {\n",
       "                /* gets rid of default border in Firefox and Opera. */\n",
       "                border: none;\n",
       "                /* Needs to be in here for Safari polyfill so background images work as expected. */\n",
       "                background-size: auto;\n",
       "            }\n",
       "            .progress-bar-interrupted, .progress-bar-interrupted::-webkit-progress-bar {\n",
       "                background: #F44336;\n",
       "            }\n",
       "        </style>\n",
       "      <progress value='679' class='' max='679', style='width:300px; height:20px; vertical-align: middle;'></progress>\n",
       "      100.00% [679/679 00:04<00:00]\n",
       "    </div>\n",
       "    "
      ],
      "text/plain": [
       "<IPython.core.display.HTML object>"
      ]
     },
     "metadata": {},
     "output_type": "display_data"
    },
    {
     "name": "stdout",
     "output_type": "stream",
     "text": [
      "cannot identify image file <_io.BufferedReader name='data/birds/magpie/00000015.jpg'>\n",
      "cannot identify image file <_io.BufferedReader name='data/birds/magpie/00000056.jpg'>\n",
      "cannot identify image file <_io.BufferedReader name='data/birds/magpie/00000069.jpg'>\n",
      "cannot identify image file <_io.BufferedReader name='data/birds/magpie/00000102.jpg'>\n",
      "cannot identify image file <_io.BufferedReader name='data/birds/magpie/00000202.jpg'>\n",
      "cannot identify image file <_io.BufferedReader name='data/birds/magpie/00000224.jpg'>\n",
      "cannot identify image file <_io.BufferedReader name='data/birds/magpie/00000231.jpg'>\n",
      "cannot identify image file <_io.BufferedReader name='data/birds/magpie/00000226.jpg'>\n",
      "cannot identify image file <_io.BufferedReader name='data/birds/magpie/00000261.jpg'>\n",
      "cannot identify image file <_io.BufferedReader name='data/birds/magpie/00000266.jpg'>\n",
      "cannot identify image file <_io.BufferedReader name='data/birds/magpie/00000310.jpg'>\n",
      "cannot identify image file <_io.BufferedReader name='data/birds/magpie/00000313.jpg'>\n",
      "cannot identify image file <_io.BufferedReader name='data/birds/magpie/00000159.jpg'>\n",
      "cannot identify image file <_io.BufferedReader name='data/birds/magpie/00000314.jpg'>\n",
      "cannot identify image file <_io.BufferedReader name='data/birds/magpie/00000330.jpg'>\n",
      "cannot identify image file <_io.BufferedReader name='data/birds/magpie/00000409.jpg'>\n",
      "cannot identify image file <_io.BufferedReader name='data/birds/magpie/00000427.jpg'>\n",
      "cannot identify image file <_io.BufferedReader name='data/birds/magpie/00000433.jpg'>\n",
      "cannot identify image file <_io.BufferedReader name='data/birds/magpie/00000415.jpg'>\n",
      "cannot identify image file <_io.BufferedReader name='data/birds/magpie/00000514.jpg'>\n",
      "cannot identify image file <_io.BufferedReader name='data/birds/magpie/00000592.jpg'>\n",
      "cannot identify image file <_io.BufferedReader name='data/birds/magpie/00000611.jpg'>\n",
      "cannot identify image file <_io.BufferedReader name='data/birds/magpie/00000633.jpg'>\n",
      "gull\n"
     ]
    },
    {
     "data": {
      "text/html": [
       "\n",
       "    <div>\n",
       "        <style>\n",
       "            /* Turns off some styling */\n",
       "            progress {\n",
       "                /* gets rid of default border in Firefox and Opera. */\n",
       "                border: none;\n",
       "                /* Needs to be in here for Safari polyfill so background images work as expected. */\n",
       "                background-size: auto;\n",
       "            }\n",
       "            .progress-bar-interrupted, .progress-bar-interrupted::-webkit-progress-bar {\n",
       "                background: #F44336;\n",
       "            }\n",
       "        </style>\n",
       "      <progress value='606' class='' max='606', style='width:300px; height:20px; vertical-align: middle;'></progress>\n",
       "      100.00% [606/606 00:06<00:00]\n",
       "    </div>\n",
       "    "
      ],
      "text/plain": [
       "<IPython.core.display.HTML object>"
      ]
     },
     "metadata": {},
     "output_type": "display_data"
    },
    {
     "name": "stdout",
     "output_type": "stream",
     "text": [
      "cannot identify image file <_io.BufferedReader name='data/birds/gull/00000020.jpg'>\n",
      "cannot identify image file <_io.BufferedReader name='data/birds/gull/00000046.jpg'>\n",
      "cannot identify image file <_io.BufferedReader name='data/birds/gull/00000071.jpg'>\n",
      "cannot identify image file <_io.BufferedReader name='data/birds/gull/00000123.jpg'>\n",
      "cannot identify image file <_io.BufferedReader name='data/birds/gull/00000143.jpg'>\n",
      "cannot identify image file <_io.BufferedReader name='data/birds/gull/00000149.jpg'>\n",
      "cannot identify image file <_io.BufferedReader name='data/birds/gull/00000246.jpg'>\n",
      "cannot identify image file <_io.BufferedReader name='data/birds/gull/00000318.jpg'>\n",
      "cannot identify image file <_io.BufferedReader name='data/birds/gull/00000319.jpg'>\n",
      "cannot identify image file <_io.BufferedReader name='data/birds/gull/00000447.jpg'>\n",
      "cannot identify image file <_io.BufferedReader name='data/birds/gull/00000411.jpg'>\n",
      "cannot identify image file <_io.BufferedReader name='data/birds/gull/00000568.jpg'>\n"
     ]
    }
   ],
   "source": [
    "for c in classes:\n",
    "    print(c)\n",
    "    verify_images(path/c, delete=True, max_size=700)"
   ]
  },
  {
   "cell_type": "code",
   "execution_count": 92,
   "metadata": {},
   "outputs": [],
   "source": [
    "np.random.seed(42)\n",
    "data = ImageDataBunch.from_folder(path, train=\".\", valid_pct=0.2,\n",
    "        ds_tfms=get_transforms(), size=224, num_workers=4).normalize(imagenet_stats)"
   ]
  },
  {
   "cell_type": "code",
   "execution_count": 93,
   "metadata": {},
   "outputs": [
    {
     "data": {
      "text/plain": [
       "['cockatoo', 'galah', 'gull', 'kookaburra', 'lorikeet', 'magpie']"
      ]
     },
     "execution_count": 93,
     "metadata": {},
     "output_type": "execute_result"
    }
   ],
   "source": [
    "data.classes"
   ]
  },
  {
   "cell_type": "markdown",
   "metadata": {},
   "source": [
    "Below some of the images are displayed along with their class."
   ]
  },
  {
   "cell_type": "code",
   "execution_count": 94,
   "metadata": {},
   "outputs": [
    {
     "data": {
      "image/png": "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